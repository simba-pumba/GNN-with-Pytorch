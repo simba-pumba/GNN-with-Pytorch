{
 "cells": [
  {
   "cell_type": "code",
   "execution_count": null,
   "metadata": {},
   "outputs": [],
   "source": [
    "import networkx as nx\n",
    "from torch.utils.data.sampler import WeightedRandomSampler"
   ]
  },
  {
   "cell_type": "code",
   "execution_count": null,
   "metadata": {},
   "outputs": [],
   "source": [
    "class GraphData:\n",
    "    def __init__(self, G):\n",
    "        \n",
    "        '''\n",
    "        G: networkx 객체\n",
    "        G.nodes, G.edges, G.neighbors(i) \n",
    "        '''\n",
    "        self.G=G\n",
    "        \n",
    "    \n",
    "    def NegativeSampler(self, v, k=2 ,with_replacement=False):\n",
    "        '''\n",
    "        k: sample의 개수\n",
    "        i: vertex\n",
    "        d_v^(3/4), where d_v = the out-degree of vertex v\n",
    "        '''\n",
    "        \n",
    "        # v의 negative nodes set 구하기 \n",
    "        neg_neighbor = set(self.G.nodes)-set(self.G.neighbors(v))-set([v])\n",
    "        \n",
    "        # out degree^(3/4) 구하기 \n",
    "        out_degree = list( map ( lambda a: self.G.degree(a) **(3/4), neg_neighbor ) )\n",
    "        \n",
    "        # out_degree 분포를 고려하여 k개의 랜덤 샘플을 뽑음\n",
    "        return list(WeightedRandomSampler(out_degree, k, replacement=with_replacement))"
   ]
  }
 ],
 "metadata": {
  "kernelspec": {
   "display_name": "torch",
   "language": "python",
   "name": "torch"
  },
  "language_info": {
   "codemirror_mode": {
    "name": "ipython",
    "version": 3
   },
   "file_extension": ".py",
   "mimetype": "text/x-python",
   "name": "python",
   "nbconvert_exporter": "python",
   "pygments_lexer": "ipython3",
   "version": "3.7.6"
  }
 },
 "nbformat": 4,
 "nbformat_minor": 2
}
