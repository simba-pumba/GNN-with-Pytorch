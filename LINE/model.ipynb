{
 "cells": [
  {
   "cell_type": "code",
   "execution_count": null,
   "metadata": {},
   "outputs": [],
   "source": [
    "import torch\n",
    "from torch import nn, optim\n",
    "import torch.nn.functional as F\n",
    "from tqdm import tqdm\n",
    "import networkx as nx\n",
    "import numpy as np\n",
    "\n",
    "import graph_data"
   ]
  },
  {
   "cell_type": "code",
   "execution_count": null,
   "metadata": {},
   "outputs": [],
   "source": [
    "class LINE(nn.Module):\n",
    "    def __init__(self, G, emd_dim, neg_k = 2, second_order = False):\n",
    "        '''\n",
    "        \n",
    "        emd_dim: embedding dimension\n",
    "        neg_k: # negative samples  \n",
    "        \n",
    "        \n",
    "        '''\n",
    "        super(LINE, self).__init__() \n",
    "        self.G = GraphData(G) \n",
    "        self.V = len(G.nodes) # number of nodes\n",
    "        self.neg_k = neg_k \n",
    "        \n",
    "        self.emd_dim = emd_dim\n",
    "        \n",
    "        self.emd_layer = nn.Embedding(num_embeddings = self.V, \n",
    "                               embedding_dim = emd_dim)\n",
    "        \n",
    "        self.second_order = second_order\n",
    "        if self.second_order:  # second_order를 위한 context_layer 생성\n",
    "            self.context_layer = nn.Embedding(num_embeddings = self.V, \n",
    "                               embedding_dim = emd_dim)\n",
    "            \n",
    "   \n",
    "    def forward(self, i, j, device):\n",
    "        v_i = self.emd_layer(i).to(device) # target node의 embeddding vector\n",
    "        if self.second_order:  # first neighbor의 embeddding vector\n",
    "            v_j = self.context_layer(j).to(device) # second_order일 경우, context layer에서 가져옴.\n",
    "        else: # first neighbor의 embeddding vector\n",
    "            v_j = self.emd_layer(j).to(device)\n",
    "        \n",
    "        # negative sampling의 postive 파트\n",
    "        pos_loss = F.logsigmoid(torch.matmul(v_i, v_j)).to(device) \n",
    "        \n",
    "        # negative sampling의 negative 파트\n",
    "        neg_set = self.G.NegativeSampler(v = i.tolist() , k = self.neg_k) # v: target node, k: # of negative samples\n",
    "        neg_set = torch.tensor(neg_set).to(device)\n",
    "        neg_loss = 0\n",
    "        \n",
    "        for v_n in neg_set:\n",
    "            if self.second_order:\n",
    "                prob = torch.matmul(v_i,self.context_layer(v_n)).to(device)\n",
    "                neg_loss += F.logsigmoid(-prob).to(device)\n",
    "                \n",
    "            else: # first_order\n",
    "                prob = torch.matmul(v_i,self.emd_layer(v_n)).to(device)\n",
    "                neg_loss += F.logsigmoid(-prob).to(device)\n",
    "                \n",
    "        negative_sampling = pos_loss + neg_loss\n",
    "        \n",
    "        return negative_sampling\n",
    "        "
   ]
  }
 ],
 "metadata": {
  "kernelspec": {
   "display_name": "torch",
   "language": "python",
   "name": "torch"
  },
  "language_info": {
   "codemirror_mode": {
    "name": "ipython",
    "version": 3
   },
   "file_extension": ".py",
   "mimetype": "text/x-python",
   "name": "python",
   "nbconvert_exporter": "python",
   "pygments_lexer": "ipython3",
   "version": "3.7.6"
  }
 },
 "nbformat": 4,
 "nbformat_minor": 2
}
