{
 "cells": [
  {
   "cell_type": "code",
   "execution_count": 1,
   "metadata": {},
   "outputs": [],
   "source": [
    "import torch\n",
    "from torch import nn, optim\n",
    "from tqdm import tqdm\n",
    "import torch.nn.functional as F\n",
    "from torch.utils.data.sampler import WeightedRandomSampler\n",
    "# from torch.utils.data import WeightedRandomSampler"
   ]
  },
  {
   "cell_type": "code",
   "execution_count": 2,
   "metadata": {},
   "outputs": [],
   "source": [
    "import matplotlib.pyplot as plt\n",
    "import seaborn as sns\n",
    "import networkx as nx\n",
    "import numpy as np\n",
    "from sklearn.manifold import TSNE\n"
   ]
  },
  {
   "cell_type": "markdown",
   "metadata": {},
   "source": [
    "## T-SNE & Make GIF FILE "
   ]
  },
  {
   "cell_type": "code",
   "execution_count": 3,
   "metadata": {},
   "outputs": [],
   "source": [
    "class Visualization:\n",
    "    def __init__(self):\n",
    "        self.labels = [0,0,0,0,0,0,0,0,0,1,0,0,0,0,1,1,0,0,1,0,1,0,1,1,1,1,1,1,1,1,1,1,1,1]\n",
    "    def TSNE(self, matrix,iter_num):\n",
    "        model = TSNE(n_components=2, random_state=0)\n",
    "        model.fit_transform(matrix)\n",
    "        sns.scatterplot(matrix[:,0],matrix[:,1],hue = self.labels)\n",
    "        plt.savefig('fig'+str(iter_num)+'.png', dpi=300)\n",
    "        plt.close()"
   ]
  },
  {
   "cell_type": "markdown",
   "metadata": {},
   "source": [
    " ## load data "
   ]
  },
  {
   "cell_type": "code",
   "execution_count": 4,
   "metadata": {},
   "outputs": [],
   "source": [
    "class GraphData:\n",
    "    def __init__(self, G):\n",
    "        \n",
    "        '''\n",
    "        G: networkx 객체\n",
    "        G.nodes, G.edges, G.neighbors(i) \n",
    "        '''\n",
    "        self.G=G\n",
    "        \n",
    "    \n",
    "    def NegativeSampler(self, v, k=2 ,with_replacement=False):\n",
    "        '''\n",
    "        k: sample의 개수\n",
    "        i: vertex\n",
    "        d_v^(3/4), where d_v = the oyt-degree of vertex v\n",
    "        '''\n",
    "        \n",
    "        # v의 negative nodes set 구하기 \n",
    "        neg_neighbor = set(self.G.nodes)-set(self.G.neighbors(v))-set([v])\n",
    "        \n",
    "        # out degree^(3/4) 구하기 \n",
    "        out_degree = list( map ( lambda a: self.G.degree(a) **(3/4), neg_neighbor ) )\n",
    "        \n",
    "        return list(WeightedRandomSampler(out_degree, k, replacement=with_replacement))\n"
   ]
  },
  {
   "cell_type": "markdown",
   "metadata": {},
   "source": [
    "## model"
   ]
  },
  {
   "cell_type": "code",
   "execution_count": 5,
   "metadata": {},
   "outputs": [],
   "source": [
    "class LINE(nn.Module):\n",
    "    def __init__(self, G, emd_dim, neg_k = 2, second_order = False):\n",
    "        '''\n",
    "        \n",
    "        emd_dim: embedding dimension\n",
    "        pos_k: # positive sample\n",
    "        neg_k: # negative sample   \n",
    "        \n",
    "        '''\n",
    "        super(LINE, self).__init__() \n",
    "        self.G = GraphData(G)\n",
    "        self.V = len(G.nodes) # number of nodes\n",
    "        self.neg_k = neg_k\n",
    "        \n",
    "        self.emd_dim = emd_dim\n",
    "        \n",
    "        self.emd_layer = nn.Embedding(num_embeddings = self.V, \n",
    "                               embedding_dim = emd_dim)\n",
    "        \n",
    "        self.second_order = second_order\n",
    "        if self.second_order:\n",
    "            self.context_layer = nn.Embedding(num_embeddings = self.V, \n",
    "                               embedding_dim = emd_dim)\n",
    "     \n",
    "        \n",
    "        #self.log_sigmoid = F.logsigmoid(torch.sum(???, dim = 1))\n",
    "        \n",
    "   \n",
    "    def forward(self, i, j, device):\n",
    "        v_i = self.emd_layer(i).to(device)\n",
    "        if self.second_order:\n",
    "            v_j = self.context_layer(j).to(device)\n",
    "        else:\n",
    "            v_j = self.emd_layer(j).to(device)\n",
    "            \n",
    "        pos_loss = F.logsigmoid(torch.matmul(v_i, v_j)).to(device)\n",
    "        \n",
    "        neg_set = self.G.NegativeSampler(v = i.tolist() , k = self.neg_k)\n",
    "        neg_set = torch.tensor(neg_set).to(device)\n",
    "        neg_loss = 0\n",
    "        \n",
    "        for v_n in neg_set:\n",
    "            if self.second_order:\n",
    "                prob = torch.matmul(v_i,self.context_layer(v_n)).to(device)\n",
    "                neg_loss += F.logsigmoid(prob).to(device)\n",
    "                \n",
    "            else: # first_order\n",
    "                prob = torch.matmul(v_i,self.emd_layer(v_n)).to(device)\n",
    "                neg_loss += F.logsigmoid(prob).to(device)\n",
    "                \n",
    "        negative_sampling = pos_loss + neg_loss\n",
    "        \n",
    "        return negative_sampling\n",
    "        "
   ]
  },
  {
   "cell_type": "markdown",
   "metadata": {},
   "source": [
    "## train"
   ]
  },
  {
   "cell_type": "code",
   "execution_count": 6,
   "metadata": {},
   "outputs": [],
   "source": [
    "class TrainLINE:\n",
    "    def __init__(self, G, emd_dim,epochs,learning_rate = 0.01, neg_k = 2, second_order = False):\n",
    "        self.line = LINE(G = G,emd_dim = emd_dim, neg_k = 2, second_order = False)\n",
    "        self.learning_rate = learning_rate\n",
    "        self.batch = list(G.edges)\n",
    "        self.nodes = len(G.nodes)\n",
    "        self.epochs = epochs\n",
    "    \n",
    "    def train(self):\n",
    "        opt = optim.SGD(self.line.parameters(), lr=self.learning_rate)\n",
    "        device = torch.device(\"cuda\" if torch.cuda.is_available() else \"cpu\")\n",
    "        self.line.cuda()\n",
    "        \n",
    "        #### for i in tqdm(range(1, 600)):\n",
    "        for epoch in range(self.epochs):\n",
    "            self.line.train()\n",
    "            np.random.shuffle(self.batch)\n",
    "            \n",
    "            print(\"Epoch {}\".format(epoch))\n",
    "            \n",
    "            for b in tqdm(self.batch):\n",
    "                self.line.zero_grad()\n",
    "                loss = self.line(i=torch.tensor(b[0],device=device), j=torch.tensor(b[1],device=device), device=device)\n",
    "                loss.backward()\n",
    "                opt.step()\n",
    "                \n",
    "                \n",
    "            self.line.eval()\n",
    "            Visualization().TSNE(self.line.emd_layer(torch.tensor(range(self.nodes),device=device)).cpu().detach().numpy(),epoch)\n",
    "            \n",
    "\n",
    "        print(\"\\nDone training\\n\")        \n",
    "        "
   ]
  },
  {
   "cell_type": "code",
   "execution_count": 7,
   "metadata": {},
   "outputs": [],
   "source": [
    "model = TrainLINE(nx.karate_club_graph(), epochs = 100, learning_rate = 0.001, emd_dim = 5, neg_k=2, second_order = False )"
   ]
  },
  {
   "cell_type": "code",
   "execution_count": 8,
   "metadata": {
    "scrolled": true
   },
   "outputs": [
    {
     "name": "stderr",
     "output_type": "stream",
     "text": [
      "\r",
      "  0%|                                                                                           | 0/78 [00:00<?, ?it/s]"
     ]
    },
    {
     "name": "stdout",
     "output_type": "stream",
     "text": [
      "Epoch 0\n"
     ]
    },
    {
     "name": "stderr",
     "output_type": "stream",
     "text": [
      "100%|█████████████████████████████████████████████████████████████████████████████████| 78/78 [00:00<00:00, 209.36it/s]\n",
      " 50%|████████████████████████████████████████▌                                        | 39/78 [00:00<00:00, 383.38it/s]"
     ]
    },
    {
     "name": "stdout",
     "output_type": "stream",
     "text": [
      "Epoch 1\n"
     ]
    },
    {
     "name": "stderr",
     "output_type": "stream",
     "text": [
      "100%|█████████████████████████████████████████████████████████████████████████████████| 78/78 [00:00<00:00, 381.51it/s]\n",
      " 51%|█████████████████████████████████████████▌                                       | 40/78 [00:00<00:00, 389.49it/s]"
     ]
    },
    {
     "name": "stdout",
     "output_type": "stream",
     "text": [
      "Epoch 2\n"
     ]
    },
    {
     "name": "stderr",
     "output_type": "stream",
     "text": [
      "100%|█████████████████████████████████████████████████████████████████████████████████| 78/78 [00:00<00:00, 393.06it/s]\n",
      " 47%|██████████████████████████████████████▍                                          | 37/78 [00:00<00:00, 363.83it/s]"
     ]
    },
    {
     "name": "stdout",
     "output_type": "stream",
     "text": [
      "Epoch 3\n"
     ]
    },
    {
     "name": "stderr",
     "output_type": "stream",
     "text": [
      "100%|█████████████████████████████████████████████████████████████████████████████████| 78/78 [00:00<00:00, 367.23it/s]\n",
      " 51%|█████████████████████████████████████████▌                                       | 40/78 [00:00<00:00, 397.10it/s]"
     ]
    },
    {
     "name": "stdout",
     "output_type": "stream",
     "text": [
      "Epoch 4\n"
     ]
    },
    {
     "name": "stderr",
     "output_type": "stream",
     "text": [
      "100%|█████████████████████████████████████████████████████████████████████████████████| 78/78 [00:00<00:00, 403.14it/s]\n",
      " 54%|███████████████████████████████████████████▌                                     | 42/78 [00:00<00:00, 416.95it/s]"
     ]
    },
    {
     "name": "stdout",
     "output_type": "stream",
     "text": [
      "Epoch 5\n"
     ]
    },
    {
     "name": "stderr",
     "output_type": "stream",
     "text": [
      "100%|█████████████████████████████████████████████████████████████████████████████████| 78/78 [00:00<00:00, 409.47it/s]\n",
      " 53%|██████████████████████████████████████████▌                                      | 41/78 [00:00<00:00, 399.12it/s]"
     ]
    },
    {
     "name": "stdout",
     "output_type": "stream",
     "text": [
      "Epoch 6\n"
     ]
    },
    {
     "name": "stderr",
     "output_type": "stream",
     "text": [
      "100%|█████████████████████████████████████████████████████████████████████████████████| 78/78 [00:00<00:00, 385.26it/s]\n",
      " 53%|██████████████████████████████████████████▌                                      | 41/78 [00:00<00:00, 403.13it/s]"
     ]
    },
    {
     "name": "stdout",
     "output_type": "stream",
     "text": [
      "Epoch 7\n"
     ]
    },
    {
     "name": "stderr",
     "output_type": "stream",
     "text": [
      "100%|█████████████████████████████████████████████████████████████████████████████████| 78/78 [00:00<00:00, 401.12it/s]\n",
      " 51%|█████████████████████████████████████████▌                                       | 40/78 [00:00<00:00, 397.10it/s]"
     ]
    },
    {
     "name": "stdout",
     "output_type": "stream",
     "text": [
      "Epoch 8\n"
     ]
    },
    {
     "name": "stderr",
     "output_type": "stream",
     "text": [
      "100%|█████████████████████████████████████████████████████████████████████████████████| 78/78 [00:00<00:00, 394.99it/s]\n",
      " 51%|█████████████████████████████████████████▌                                       | 40/78 [00:00<00:00, 397.09it/s]"
     ]
    },
    {
     "name": "stdout",
     "output_type": "stream",
     "text": [
      "Epoch 9\n"
     ]
    },
    {
     "name": "stderr",
     "output_type": "stream",
     "text": [
      "100%|█████████████████████████████████████████████████████████████████████████████████| 78/78 [00:00<00:00, 393.00it/s]\n",
      " 44%|███████████████████████████████████▎                                             | 34/78 [00:00<00:00, 337.54it/s]"
     ]
    },
    {
     "name": "stdout",
     "output_type": "stream",
     "text": [
      "Epoch 10\n"
     ]
    },
    {
     "name": "stderr",
     "output_type": "stream",
     "text": [
      "100%|█████████████████████████████████████████████████████████████████████████████████| 78/78 [00:00<00:00, 323.18it/s]\n",
      " 50%|████████████████████████████████████████▌                                        | 39/78 [00:00<00:00, 383.37it/s]"
     ]
    },
    {
     "name": "stdout",
     "output_type": "stream",
     "text": [
      "Epoch 11\n"
     ]
    },
    {
     "name": "stderr",
     "output_type": "stream",
     "text": [
      "100%|█████████████████████████████████████████████████████████████████████████████████| 78/78 [00:00<00:00, 387.17it/s]\n",
      " 54%|███████████████████████████████████████████▌                                     | 42/78 [00:00<00:00, 412.87it/s]"
     ]
    },
    {
     "name": "stdout",
     "output_type": "stream",
     "text": [
      "Epoch 12\n"
     ]
    },
    {
     "name": "stderr",
     "output_type": "stream",
     "text": [
      "100%|█████████████████████████████████████████████████████████████████████████████████| 78/78 [00:00<00:00, 413.80it/s]\n",
      " 50%|████████████████████████████████████████▌                                        | 39/78 [00:00<00:00, 387.18it/s]"
     ]
    },
    {
     "name": "stdout",
     "output_type": "stream",
     "text": [
      "Epoch 13\n"
     ]
    },
    {
     "name": "stderr",
     "output_type": "stream",
     "text": [
      "100%|█████████████████████████████████████████████████████████████████████████████████| 78/78 [00:00<00:00, 399.02it/s]\n",
      " 51%|█████████████████████████████████████████▌                                       | 40/78 [00:00<00:00, 397.09it/s]"
     ]
    },
    {
     "name": "stdout",
     "output_type": "stream",
     "text": [
      "Epoch 14\n"
     ]
    },
    {
     "name": "stderr",
     "output_type": "stream",
     "text": [
      "100%|█████████████████████████████████████████████████████████████████████████████████| 78/78 [00:00<00:00, 399.02it/s]\n",
      " 51%|█████████████████████████████████████████▌                                       | 40/78 [00:00<00:00, 393.21it/s]"
     ]
    },
    {
     "name": "stdout",
     "output_type": "stream",
     "text": [
      "Epoch 15\n"
     ]
    },
    {
     "name": "stderr",
     "output_type": "stream",
     "text": [
      "100%|█████████████████████████████████████████████████████████████████████████████████| 78/78 [00:00<00:00, 389.10it/s]\n",
      " 45%|████████████████████████████████████▎                                            | 35/78 [00:00<00:00, 342.30it/s]"
     ]
    },
    {
     "name": "stdout",
     "output_type": "stream",
     "text": [
      "Epoch 16\n"
     ]
    },
    {
     "name": "stderr",
     "output_type": "stream",
     "text": [
      "100%|█████████████████████████████████████████████████████████████████████████████████| 78/78 [00:00<00:00, 279.79it/s]\n",
      " 53%|██████████████████████████████████████████▌                                      | 41/78 [00:00<00:00, 407.14it/s]"
     ]
    },
    {
     "name": "stdout",
     "output_type": "stream",
     "text": [
      "Epoch 17\n"
     ]
    },
    {
     "name": "stderr",
     "output_type": "stream",
     "text": [
      "100%|█████████████████████████████████████████████████████████████████████████████████| 78/78 [00:00<00:00, 407.39it/s]\n",
      " 54%|███████████████████████████████████████████▌                                     | 42/78 [00:00<00:00, 412.87it/s]"
     ]
    },
    {
     "name": "stdout",
     "output_type": "stream",
     "text": [
      "Epoch 18\n"
     ]
    },
    {
     "name": "stderr",
     "output_type": "stream",
     "text": [
      "100%|█████████████████████████████████████████████████████████████████████████████████| 78/78 [00:00<00:00, 409.41it/s]\n",
      " 49%|███████████████████████████████████████▍                                         | 38/78 [00:00<00:00, 377.24it/s]"
     ]
    },
    {
     "name": "stdout",
     "output_type": "stream",
     "text": [
      "Epoch 19\n"
     ]
    },
    {
     "name": "stderr",
     "output_type": "stream",
     "text": [
      "100%|█████████████████████████████████████████████████████████████████████████████████| 78/78 [00:00<00:00, 385.22it/s]\n",
      " 50%|████████████████████████████████████████▌                                        | 39/78 [00:00<00:00, 379.64it/s]"
     ]
    },
    {
     "name": "stdout",
     "output_type": "stream",
     "text": [
      "Epoch 20\n"
     ]
    },
    {
     "name": "stderr",
     "output_type": "stream",
     "text": [
      "100%|█████████████████████████████████████████████████████████████████████████████████| 78/78 [00:00<00:00, 365.46it/s]\n",
      " 53%|██████████████████████████████████████████▌                                      | 41/78 [00:00<00:00, 406.92it/s]"
     ]
    },
    {
     "name": "stdout",
     "output_type": "stream",
     "text": [
      "Epoch 21\n"
     ]
    },
    {
     "name": "stderr",
     "output_type": "stream",
     "text": [
      "100%|█████████████████████████████████████████████████████████████████████████████████| 78/78 [00:00<00:00, 409.47it/s]\n",
      " 51%|█████████████████████████████████████████▌                                       | 40/78 [00:00<00:00, 397.09it/s]"
     ]
    },
    {
     "name": "stdout",
     "output_type": "stream",
     "text": [
      "Epoch 22\n"
     ]
    },
    {
     "name": "stderr",
     "output_type": "stream",
     "text": [
      "100%|█████████████████████████████████████████████████████████████████████████████████| 78/78 [00:00<00:00, 383.37it/s]\n",
      " 53%|██████████████████████████████████████████▌                                      | 41/78 [00:00<00:00, 403.03it/s]"
     ]
    },
    {
     "name": "stdout",
     "output_type": "stream",
     "text": [
      "Epoch 23\n"
     ]
    },
    {
     "name": "stderr",
     "output_type": "stream",
     "text": [
      "100%|█████████████████████████████████████████████████████████████████████████████████| 78/78 [00:00<00:00, 407.27it/s]\n",
      "100%|█████████████████████████████████████████████████████████████████████████████████| 78/78 [00:00<00:00, 415.93it/s]"
     ]
    },
    {
     "name": "stdout",
     "output_type": "stream",
     "text": [
      "Epoch 24\n"
     ]
    },
    {
     "name": "stderr",
     "output_type": "stream",
     "text": [
      "\n",
      " 53%|██████████████████████████████████████████▌                                      | 41/78 [00:00<00:00, 406.89it/s]"
     ]
    },
    {
     "name": "stdout",
     "output_type": "stream",
     "text": [
      "Epoch 25\n"
     ]
    },
    {
     "name": "stderr",
     "output_type": "stream",
     "text": [
      "100%|█████████████████████████████████████████████████████████████████████████████████| 78/78 [00:00<00:00, 409.47it/s]\n",
      " 51%|█████████████████████████████████████████▌                                       | 40/78 [00:00<00:00, 393.21it/s]"
     ]
    },
    {
     "name": "stdout",
     "output_type": "stream",
     "text": [
      "Epoch 26\n"
     ]
    },
    {
     "name": "stderr",
     "output_type": "stream",
     "text": [
      "100%|█████████████████████████████████████████████████████████████████████████████████| 78/78 [00:00<00:00, 394.95it/s]\n",
      " 54%|███████████████████████████████████████████▌                                     | 42/78 [00:00<00:00, 412.87it/s]"
     ]
    },
    {
     "name": "stdout",
     "output_type": "stream",
     "text": [
      "Epoch 27\n"
     ]
    },
    {
     "name": "stderr",
     "output_type": "stream",
     "text": [
      "100%|█████████████████████████████████████████████████████████████████████████████████| 78/78 [00:00<00:00, 411.62it/s]\n",
      "100%|█████████████████████████████████████████████████████████████████████████████████| 78/78 [00:00<00:00, 413.75it/s]"
     ]
    },
    {
     "name": "stdout",
     "output_type": "stream",
     "text": [
      "Epoch 28\n"
     ]
    },
    {
     "name": "stderr",
     "output_type": "stream",
     "text": [
      "\n",
      " 53%|██████████████████████████████████████████▌                                      | 41/78 [00:00<00:00, 399.12it/s]"
     ]
    },
    {
     "name": "stdout",
     "output_type": "stream",
     "text": [
      "Epoch 29\n"
     ]
    },
    {
     "name": "stderr",
     "output_type": "stream",
     "text": [
      "100%|█████████████████████████████████████████████████████████████████████████████████| 78/78 [00:00<00:00, 391.04it/s]\n",
      "100%|█████████████████████████████████████████████████████████████████████████████████| 78/78 [00:00<00:00, 407.28it/s]"
     ]
    },
    {
     "name": "stdout",
     "output_type": "stream",
     "text": [
      "Epoch 30\n"
     ]
    },
    {
     "name": "stderr",
     "output_type": "stream",
     "text": [
      "\n",
      " 51%|█████████████████████████████████████████▌                                       | 40/78 [00:00<00:00, 393.21it/s]"
     ]
    },
    {
     "name": "stdout",
     "output_type": "stream",
     "text": [
      "Epoch 31\n"
     ]
    },
    {
     "name": "stderr",
     "output_type": "stream",
     "text": [
      "100%|█████████████████████████████████████████████████████████████████████████████████| 78/78 [00:00<00:00, 401.03it/s]\n",
      " 51%|█████████████████████████████████████████▌                                       | 40/78 [00:00<00:00, 393.07it/s]"
     ]
    },
    {
     "name": "stdout",
     "output_type": "stream",
     "text": [
      "Epoch 32\n"
     ]
    },
    {
     "name": "stderr",
     "output_type": "stream",
     "text": [
      "100%|█████████████████████████████████████████████████████████████████████████████████| 78/78 [00:00<00:00, 394.99it/s]\n",
      " 53%|██████████████████████████████████████████▌                                      | 41/78 [00:00<00:00, 407.03it/s]"
     ]
    },
    {
     "name": "stdout",
     "output_type": "stream",
     "text": [
      "Epoch 33\n"
     ]
    },
    {
     "name": "stderr",
     "output_type": "stream",
     "text": [
      "100%|█████████████████████████████████████████████████████████████████████████████████| 78/78 [00:00<00:00, 397.00it/s]\n",
      " 53%|██████████████████████████████████████████▌                                      | 41/78 [00:00<00:00, 406.94it/s]"
     ]
    },
    {
     "name": "stdout",
     "output_type": "stream",
     "text": [
      "Epoch 34\n"
     ]
    },
    {
     "name": "stderr",
     "output_type": "stream",
     "text": [
      "100%|█████████████████████████████████████████████████████████████████████████████████| 78/78 [00:00<00:00, 415.94it/s]\n",
      " 54%|███████████████████████████████████████████▌                                     | 42/78 [00:00<00:00, 416.83it/s]"
     ]
    },
    {
     "name": "stdout",
     "output_type": "stream",
     "text": [
      "Epoch 35\n"
     ]
    },
    {
     "name": "stderr",
     "output_type": "stream",
     "text": [
      "100%|█████████████████████████████████████████████████████████████████████████████████| 78/78 [00:00<00:00, 409.51it/s]\n",
      " 51%|█████████████████████████████████████████▌                                       | 40/78 [00:00<00:00, 397.13it/s]"
     ]
    },
    {
     "name": "stdout",
     "output_type": "stream",
     "text": [
      "Epoch 36\n"
     ]
    },
    {
     "name": "stderr",
     "output_type": "stream",
     "text": [
      "100%|█████████████████████████████████████████████████████████████████████████████████| 78/78 [00:00<00:00, 401.15it/s]\n",
      " 54%|███████████████████████████████████████████▌                                     | 42/78 [00:00<00:00, 416.83it/s]"
     ]
    },
    {
     "name": "stdout",
     "output_type": "stream",
     "text": [
      "Epoch 37\n"
     ]
    },
    {
     "name": "stderr",
     "output_type": "stream",
     "text": [
      "100%|█████████████████████████████████████████████████████████████████████████████████| 78/78 [00:00<00:00, 409.46it/s]\n",
      " 54%|███████████████████████████████████████████▌                                     | 42/78 [00:00<00:00, 416.96it/s]"
     ]
    },
    {
     "name": "stdout",
     "output_type": "stream",
     "text": [
      "Epoch 38\n"
     ]
    },
    {
     "name": "stderr",
     "output_type": "stream",
     "text": [
      "100%|█████████████████████████████████████████████████████████████████████████████████| 78/78 [00:00<00:00, 411.62it/s]\n",
      "100%|█████████████████████████████████████████████████████████████████████████████████| 78/78 [00:00<00:00, 392.09it/s]"
     ]
    },
    {
     "name": "stdout",
     "output_type": "stream",
     "text": [
      "Epoch 39\n"
     ]
    },
    {
     "name": "stderr",
     "output_type": "stream",
     "text": [
      "\n",
      " 35%|████████████████████████████                                                     | 27/78 [00:00<00:00, 268.05it/s]"
     ]
    },
    {
     "name": "stdout",
     "output_type": "stream",
     "text": [
      "Epoch 40\n"
     ]
    },
    {
     "name": "stderr",
     "output_type": "stream",
     "text": [
      "100%|█████████████████████████████████████████████████████████████████████████████████| 78/78 [00:00<00:00, 285.43it/s]\n",
      " 40%|████████████████████████████████▏                                                | 31/78 [00:00<00:00, 301.78it/s]"
     ]
    },
    {
     "name": "stdout",
     "output_type": "stream",
     "text": [
      "Epoch 41\n"
     ]
    },
    {
     "name": "stderr",
     "output_type": "stream",
     "text": [
      "100%|█████████████████████████████████████████████████████████████████████████████████| 78/78 [00:00<00:00, 342.85it/s]\n",
      "100%|█████████████████████████████████████████████████████████████████████████████████| 78/78 [00:00<00:00, 416.01it/s]"
     ]
    },
    {
     "name": "stdout",
     "output_type": "stream",
     "text": [
      "Epoch 42\n"
     ]
    },
    {
     "name": "stderr",
     "output_type": "stream",
     "text": [
      "\n",
      " 53%|██████████████████████████████████████████▌                                      | 41/78 [00:00<00:00, 403.04it/s]"
     ]
    },
    {
     "name": "stdout",
     "output_type": "stream",
     "text": [
      "Epoch 43\n"
     ]
    },
    {
     "name": "stderr",
     "output_type": "stream",
     "text": [
      "100%|█████████████████████████████████████████████████████████████████████████████████| 78/78 [00:00<00:00, 387.17it/s]\n",
      " 53%|██████████████████████████████████████████▌                                      | 41/78 [00:00<00:00, 407.02it/s]"
     ]
    },
    {
     "name": "stdout",
     "output_type": "stream",
     "text": [
      "Epoch 44\n"
     ]
    },
    {
     "name": "stderr",
     "output_type": "stream",
     "text": [
      "100%|█████████████████████████████████████████████████████████████████████████████████| 78/78 [00:00<00:00, 393.00it/s]\n",
      " 54%|███████████████████████████████████████████▌                                     | 42/78 [00:00<00:00, 408.85it/s]"
     ]
    },
    {
     "name": "stdout",
     "output_type": "stream",
     "text": [
      "Epoch 45\n"
     ]
    },
    {
     "name": "stderr",
     "output_type": "stream",
     "text": [
      "100%|█████████████████████████████████████████████████████████████████████████████████| 78/78 [00:00<00:00, 413.80it/s]\n",
      " 40%|████████████████████████████████▏                                                | 31/78 [00:00<00:00, 307.67it/s]"
     ]
    },
    {
     "name": "stdout",
     "output_type": "stream",
     "text": [
      "Epoch 46\n"
     ]
    },
    {
     "name": "stderr",
     "output_type": "stream",
     "text": [
      "100%|█████████████████████████████████████████████████████████████████████████████████| 78/78 [00:00<00:00, 338.56it/s]\n",
      " 44%|███████████████████████████████████▎                                             | 34/78 [00:00<00:00, 337.54it/s]"
     ]
    },
    {
     "name": "stdout",
     "output_type": "stream",
     "text": [
      "Epoch 47\n"
     ]
    },
    {
     "name": "stderr",
     "output_type": "stream",
     "text": [
      "100%|█████████████████████████████████████████████████████████████████████████████████| 78/78 [00:00<00:00, 362.08it/s]\n",
      " 50%|████████████████████████████████████████▌                                        | 39/78 [00:00<00:00, 383.38it/s]"
     ]
    },
    {
     "name": "stdout",
     "output_type": "stream",
     "text": [
      "Epoch 48\n"
     ]
    },
    {
     "name": "stderr",
     "output_type": "stream",
     "text": [
      "100%|█████████████████████████████████████████████████████████████████████████████████| 78/78 [00:00<00:00, 390.99it/s]\n",
      " 50%|████████████████████████████████████████▌                                        | 39/78 [00:00<00:00, 383.37it/s]"
     ]
    },
    {
     "name": "stdout",
     "output_type": "stream",
     "text": [
      "Epoch 49\n"
     ]
    },
    {
     "name": "stderr",
     "output_type": "stream",
     "text": [
      "100%|█████████████████████████████████████████████████████████████████████████████████| 78/78 [00:00<00:00, 391.04it/s]\n",
      " 46%|█████████████████████████████████████▍                                           | 36/78 [00:00<00:00, 357.39it/s]"
     ]
    },
    {
     "name": "stdout",
     "output_type": "stream",
     "text": [
      "Epoch 50\n"
     ]
    },
    {
     "name": "stderr",
     "output_type": "stream",
     "text": [
      "100%|█████████████████████████████████████████████████████████████████████████████████| 78/78 [00:00<00:00, 363.76it/s]\n",
      " 50%|████████████████████████████████████████▌                                        | 39/78 [00:00<00:00, 379.66it/s]"
     ]
    },
    {
     "name": "stdout",
     "output_type": "stream",
     "text": [
      "Epoch 51\n"
     ]
    },
    {
     "name": "stderr",
     "output_type": "stream",
     "text": [
      "100%|█████████████████████████████████████████████████████████████████████████████████| 78/78 [00:00<00:00, 379.65it/s]\n",
      " 54%|███████████████████████████████████████████▌                                     | 42/78 [00:00<00:00, 412.75it/s]"
     ]
    },
    {
     "name": "stdout",
     "output_type": "stream",
     "text": [
      "Epoch 52\n"
     ]
    },
    {
     "name": "stderr",
     "output_type": "stream",
     "text": [
      "100%|█████████████████████████████████████████████████████████████████████████████████| 78/78 [00:00<00:00, 407.34it/s]\n",
      " 50%|████████████████████████████████████████▌                                        | 39/78 [00:00<00:00, 372.42it/s]"
     ]
    },
    {
     "name": "stdout",
     "output_type": "stream",
     "text": [
      "Epoch 53\n"
     ]
    },
    {
     "name": "stderr",
     "output_type": "stream",
     "text": [
      "100%|█████████████████████████████████████████████████████████████████████████████████| 78/78 [00:00<00:00, 368.85it/s]\n",
      " 50%|████████████████████████████████████████▌                                        | 39/78 [00:00<00:00, 383.37it/s]"
     ]
    },
    {
     "name": "stdout",
     "output_type": "stream",
     "text": [
      "Epoch 54\n"
     ]
    },
    {
     "name": "stderr",
     "output_type": "stream",
     "text": [
      "100%|█████████████████████████████████████████████████████████████████████████████████| 78/78 [00:00<00:00, 368.91it/s]\n",
      " 51%|█████████████████████████████████████████▌                                       | 40/78 [00:00<00:00, 389.29it/s]"
     ]
    },
    {
     "name": "stdout",
     "output_type": "stream",
     "text": [
      "Epoch 55\n"
     ]
    },
    {
     "name": "stderr",
     "output_type": "stream",
     "text": [
      "100%|█████████████████████████████████████████████████████████████████████████████████| 78/78 [00:00<00:00, 393.01it/s]\n",
      " 54%|███████████████████████████████████████████▌                                     | 42/78 [00:00<00:00, 416.95it/s]"
     ]
    },
    {
     "name": "stdout",
     "output_type": "stream",
     "text": [
      "Epoch 56\n"
     ]
    },
    {
     "name": "stderr",
     "output_type": "stream",
     "text": [
      "100%|█████████████████████████████████████████████████████████████████████████████████| 78/78 [00:00<00:00, 413.80it/s]\n",
      " 53%|██████████████████████████████████████████▌                                      | 41/78 [00:00<00:00, 406.94it/s]"
     ]
    },
    {
     "name": "stdout",
     "output_type": "stream",
     "text": [
      "Epoch 57\n"
     ]
    },
    {
     "name": "stderr",
     "output_type": "stream",
     "text": [
      "100%|█████████████████████████████████████████████████████████████████████████████████| 78/78 [00:00<00:00, 403.14it/s]\n",
      " 51%|█████████████████████████████████████████▌                                       | 40/78 [00:00<00:00, 393.20it/s]"
     ]
    },
    {
     "name": "stdout",
     "output_type": "stream",
     "text": [
      "Epoch 58\n"
     ]
    },
    {
     "name": "stderr",
     "output_type": "stream",
     "text": [
      "100%|█████████████████████████████████████████████████████████████████████████████████| 78/78 [00:00<00:00, 397.00it/s]\n",
      " 49%|███████████████████████████████████████▍                                         | 38/78 [00:00<00:00, 377.24it/s]"
     ]
    },
    {
     "name": "stdout",
     "output_type": "stream",
     "text": [
      "Epoch 59\n"
     ]
    },
    {
     "name": "stderr",
     "output_type": "stream",
     "text": [
      "100%|█████████████████████████████████████████████████████████████████████████████████| 78/78 [00:00<00:00, 379.66it/s]\n",
      " 51%|█████████████████████████████████████████▌                                       | 40/78 [00:00<00:00, 393.21it/s]"
     ]
    },
    {
     "name": "stdout",
     "output_type": "stream",
     "text": [
      "Epoch 60\n"
     ]
    },
    {
     "name": "stderr",
     "output_type": "stream",
     "text": [
      "100%|█████████████████████████████████████████████████████████████████████████████████| 78/78 [00:00<00:00, 391.04it/s]\n",
      " 53%|██████████████████████████████████████████▌                                      | 41/78 [00:00<00:00, 402.93it/s]"
     ]
    },
    {
     "name": "stdout",
     "output_type": "stream",
     "text": [
      "Epoch 61\n"
     ]
    },
    {
     "name": "stderr",
     "output_type": "stream",
     "text": [
      "100%|█████████████████████████████████████████████████████████████████████████████████| 78/78 [00:00<00:00, 405.23it/s]\n",
      " 54%|███████████████████████████████████████████▌                                     | 42/78 [00:00<00:00, 416.95it/s]"
     ]
    },
    {
     "name": "stdout",
     "output_type": "stream",
     "text": [
      "Epoch 62\n"
     ]
    },
    {
     "name": "stderr",
     "output_type": "stream",
     "text": [
      "100%|█████████████████████████████████████████████████████████████████████████████████| 78/78 [00:00<00:00, 411.62it/s]\n",
      " 54%|███████████████████████████████████████████▌                                     | 42/78 [00:00<00:00, 416.96it/s]"
     ]
    },
    {
     "name": "stdout",
     "output_type": "stream",
     "text": [
      "Epoch 63\n"
     ]
    },
    {
     "name": "stderr",
     "output_type": "stream",
     "text": [
      "100%|█████████████████████████████████████████████████████████████████████████████████| 78/78 [00:00<00:00, 419.20it/s]\n",
      " 53%|██████████████████████████████████████████▌                                      | 41/78 [00:00<00:00, 403.04it/s]"
     ]
    },
    {
     "name": "stdout",
     "output_type": "stream",
     "text": [
      "Epoch 64\n"
     ]
    },
    {
     "name": "stderr",
     "output_type": "stream",
     "text": [
      "100%|█████████████████████████████████████████████████████████████████████████████████| 78/78 [00:00<00:00, 407.34it/s]\n",
      " 51%|█████████████████████████████████████████▌                                       | 40/78 [00:00<00:00, 393.24it/s]"
     ]
    },
    {
     "name": "stdout",
     "output_type": "stream",
     "text": [
      "Epoch 65\n"
     ]
    },
    {
     "name": "stderr",
     "output_type": "stream",
     "text": [
      "100%|█████████████████████████████████████████████████████████████████████████████████| 78/78 [00:00<00:00, 396.96it/s]\n",
      " 51%|█████████████████████████████████████████▌                                       | 40/78 [00:00<00:00, 396.98it/s]"
     ]
    },
    {
     "name": "stdout",
     "output_type": "stream",
     "text": [
      "Epoch 66\n"
     ]
    },
    {
     "name": "stderr",
     "output_type": "stream",
     "text": [
      "100%|█████████████████████████████████████████████████████████████████████████████████| 78/78 [00:00<00:00, 397.18it/s]\n",
      " 53%|██████████████████████████████████████████▌                                      | 41/78 [00:00<00:00, 407.03it/s]"
     ]
    },
    {
     "name": "stdout",
     "output_type": "stream",
     "text": [
      "Epoch 67\n"
     ]
    },
    {
     "name": "stderr",
     "output_type": "stream",
     "text": [
      "100%|█████████████████████████████████████████████████████████████████████████████████| 78/78 [00:00<00:00, 405.22it/s]\n",
      " 54%|███████████████████████████████████████████▌                                     | 42/78 [00:00<00:00, 412.87it/s]"
     ]
    },
    {
     "name": "stdout",
     "output_type": "stream",
     "text": [
      "Epoch 68\n"
     ]
    },
    {
     "name": "stderr",
     "output_type": "stream",
     "text": [
      "100%|█████████████████████████████████████████████████████████████████████████████████| 78/78 [00:00<00:00, 407.34it/s]\n",
      " 53%|██████████████████████████████████████████▌                                      | 41/78 [00:00<00:00, 403.04it/s]"
     ]
    },
    {
     "name": "stdout",
     "output_type": "stream",
     "text": [
      "Epoch 69\n"
     ]
    },
    {
     "name": "stderr",
     "output_type": "stream",
     "text": [
      "100%|█████████████████████████████████████████████████████████████████████████████████| 78/78 [00:00<00:00, 401.07it/s]\n",
      " 51%|█████████████████████████████████████████▌                                       | 40/78 [00:00<00:00, 397.09it/s]"
     ]
    },
    {
     "name": "stdout",
     "output_type": "stream",
     "text": [
      "Epoch 70\n"
     ]
    },
    {
     "name": "stderr",
     "output_type": "stream",
     "text": [
      "100%|█████████████████████████████████████████████████████████████████████████████████| 78/78 [00:00<00:00, 399.02it/s]\n",
      " 55%|████████████████████████████████████████████▋                                    | 43/78 [00:00<00:00, 422.70it/s]"
     ]
    },
    {
     "name": "stdout",
     "output_type": "stream",
     "text": [
      "Epoch 71\n"
     ]
    },
    {
     "name": "stderr",
     "output_type": "stream",
     "text": [
      "100%|█████████████████████████████████████████████████████████████████████████████████| 78/78 [00:00<00:00, 416.00it/s]\n",
      " 53%|██████████████████████████████████████████▌                                      | 41/78 [00:00<00:00, 403.15it/s]"
     ]
    },
    {
     "name": "stdout",
     "output_type": "stream",
     "text": [
      "Epoch 72\n"
     ]
    },
    {
     "name": "stderr",
     "output_type": "stream",
     "text": [
      "100%|█████████████████████████████████████████████████████████████████████████████████| 78/78 [00:00<00:00, 399.08it/s]\n",
      " 53%|██████████████████████████████████████████▌                                      | 41/78 [00:00<00:00, 407.13it/s]"
     ]
    },
    {
     "name": "stdout",
     "output_type": "stream",
     "text": [
      "Epoch 73\n"
     ]
    },
    {
     "name": "stderr",
     "output_type": "stream",
     "text": [
      "100%|█████████████████████████████████████████████████████████████████████████████████| 78/78 [00:00<00:00, 407.38it/s]\n",
      " 54%|███████████████████████████████████████████▌                                     | 42/78 [00:00<00:00, 416.93it/s]"
     ]
    },
    {
     "name": "stdout",
     "output_type": "stream",
     "text": [
      "Epoch 74\n"
     ]
    },
    {
     "name": "stderr",
     "output_type": "stream",
     "text": [
      "100%|█████████████████████████████████████████████████████████████████████████████████| 78/78 [00:00<00:00, 413.85it/s]\n",
      " 53%|██████████████████████████████████████████▌                                      | 41/78 [00:00<00:00, 406.91it/s]"
     ]
    },
    {
     "name": "stdout",
     "output_type": "stream",
     "text": [
      "Epoch 75\n"
     ]
    },
    {
     "name": "stderr",
     "output_type": "stream",
     "text": [
      "100%|█████████████████████████████████████████████████████████████████████████████████| 78/78 [00:00<00:00, 403.14it/s]\n",
      "100%|█████████████████████████████████████████████████████████████████████████████████| 78/78 [00:00<00:00, 416.00it/s]"
     ]
    },
    {
     "name": "stdout",
     "output_type": "stream",
     "text": [
      "Epoch 76\n"
     ]
    },
    {
     "name": "stderr",
     "output_type": "stream",
     "text": [
      "\n",
      " 51%|█████████████████████████████████████████▌                                       | 40/78 [00:00<00:00, 393.21it/s]"
     ]
    },
    {
     "name": "stdout",
     "output_type": "stream",
     "text": [
      "Epoch 77\n"
     ]
    },
    {
     "name": "stderr",
     "output_type": "stream",
     "text": [
      "100%|█████████████████████████████████████████████████████████████████████████████████| 78/78 [00:00<00:00, 401.07it/s]\n",
      "100%|█████████████████████████████████████████████████████████████████████████████████| 78/78 [00:00<00:00, 411.68it/s]"
     ]
    },
    {
     "name": "stdout",
     "output_type": "stream",
     "text": [
      "Epoch 78\n"
     ]
    },
    {
     "name": "stderr",
     "output_type": "stream",
     "text": [
      "\n",
      " 54%|███████████████████████████████████████████▌                                     | 42/78 [00:00<00:00, 416.95it/s]"
     ]
    },
    {
     "name": "stdout",
     "output_type": "stream",
     "text": [
      "Epoch 79\n"
     ]
    },
    {
     "name": "stderr",
     "output_type": "stream",
     "text": [
      "100%|█████████████████████████████████████████████████████████████████████████████████| 78/78 [00:00<00:00, 419.30it/s]\n",
      " 53%|██████████████████████████████████████████▌                                      | 41/78 [00:00<00:00, 406.92it/s]"
     ]
    },
    {
     "name": "stdout",
     "output_type": "stream",
     "text": [
      "Epoch 80\n"
     ]
    },
    {
     "name": "stderr",
     "output_type": "stream",
     "text": [
      "100%|█████████████████████████████████████████████████████████████████████████████████| 78/78 [00:00<00:00, 405.22it/s]\n",
      " 55%|████████████████████████████████████████████▋                                    | 43/78 [00:00<00:00, 418.48it/s]"
     ]
    },
    {
     "name": "stdout",
     "output_type": "stream",
     "text": [
      "Epoch 81\n"
     ]
    },
    {
     "name": "stderr",
     "output_type": "stream",
     "text": [
      "100%|█████████████████████████████████████████████████████████████████████████████████| 78/78 [00:00<00:00, 411.56it/s]\n",
      "100%|█████████████████████████████████████████████████████████████████████████████████| 78/78 [00:00<00:00, 422.79it/s]"
     ]
    },
    {
     "name": "stdout",
     "output_type": "stream",
     "text": [
      "Epoch 82\n"
     ]
    },
    {
     "name": "stderr",
     "output_type": "stream",
     "text": [
      "\n",
      " 55%|████████████████████████████████████████████▋                                    | 43/78 [00:00<00:00, 418.59it/s]"
     ]
    },
    {
     "name": "stdout",
     "output_type": "stream",
     "text": [
      "Epoch 83\n"
     ]
    },
    {
     "name": "stderr",
     "output_type": "stream",
     "text": [
      "100%|█████████████████████████████████████████████████████████████████████████████████| 78/78 [00:00<00:00, 411.63it/s]\n",
      " 54%|███████████████████████████████████████████▌                                     | 42/78 [00:00<00:00, 408.86it/s]"
     ]
    },
    {
     "name": "stdout",
     "output_type": "stream",
     "text": [
      "Epoch 84\n"
     ]
    },
    {
     "name": "stderr",
     "output_type": "stream",
     "text": [
      "100%|█████████████████████████████████████████████████████████████████████████████████| 78/78 [00:00<00:00, 405.18it/s]\n",
      "100%|█████████████████████████████████████████████████████████████████████████████████| 78/78 [00:00<00:00, 401.09it/s]"
     ]
    },
    {
     "name": "stdout",
     "output_type": "stream",
     "text": [
      "Epoch 85\n"
     ]
    },
    {
     "name": "stderr",
     "output_type": "stream",
     "text": [
      "\n",
      " 54%|███████████████████████████████████████████▌                                     | 42/78 [00:00<00:00, 416.84it/s]"
     ]
    },
    {
     "name": "stdout",
     "output_type": "stream",
     "text": [
      "Epoch 86\n"
     ]
    },
    {
     "name": "stderr",
     "output_type": "stream",
     "text": [
      "100%|█████████████████████████████████████████████████████████████████████████████████| 78/78 [00:00<00:00, 411.63it/s]\n",
      " 55%|████████████████████████████████████████████▋                                    | 43/78 [00:00<00:00, 422.88it/s]"
     ]
    },
    {
     "name": "stdout",
     "output_type": "stream",
     "text": [
      "Epoch 87\n"
     ]
    },
    {
     "name": "stderr",
     "output_type": "stream",
     "text": [
      "100%|█████████████████████████████████████████████████████████████████████████████████| 78/78 [00:00<00:00, 411.72it/s]\n",
      " 51%|█████████████████████████████████████████▌                                       | 40/78 [00:00<00:00, 397.20it/s]"
     ]
    },
    {
     "name": "stdout",
     "output_type": "stream",
     "text": [
      "Epoch 88\n"
     ]
    },
    {
     "name": "stderr",
     "output_type": "stream",
     "text": [
      "100%|█████████████████████████████████████████████████████████████████████████████████| 78/78 [00:00<00:00, 407.33it/s]\n",
      " 53%|██████████████████████████████████████████▌                                      | 41/78 [00:00<00:00, 403.16it/s]"
     ]
    },
    {
     "name": "stdout",
     "output_type": "stream",
     "text": [
      "Epoch 89\n"
     ]
    },
    {
     "name": "stderr",
     "output_type": "stream",
     "text": [
      "100%|█████████████████████████████████████████████████████████████████████████████████| 78/78 [00:00<00:00, 401.13it/s]\n",
      "100%|█████████████████████████████████████████████████████████████████████████████████| 78/78 [00:00<00:00, 416.01it/s]"
     ]
    },
    {
     "name": "stdout",
     "output_type": "stream",
     "text": [
      "Epoch 90\n"
     ]
    },
    {
     "name": "stderr",
     "output_type": "stream",
     "text": [
      "\n",
      " 54%|███████████████████████████████████████████▌                                     | 42/78 [00:00<00:00, 416.96it/s]"
     ]
    },
    {
     "name": "stdout",
     "output_type": "stream",
     "text": [
      "Epoch 91\n"
     ]
    },
    {
     "name": "stderr",
     "output_type": "stream",
     "text": [
      "100%|█████████████████████████████████████████████████████████████████████████████████| 78/78 [00:00<00:00, 413.80it/s]\n",
      " 54%|███████████████████████████████████████████▌                                     | 42/78 [00:00<00:00, 408.85it/s]"
     ]
    },
    {
     "name": "stdout",
     "output_type": "stream",
     "text": [
      "Epoch 92\n"
     ]
    },
    {
     "name": "stderr",
     "output_type": "stream",
     "text": [
      "100%|█████████████████████████████████████████████████████████████████████████████████| 78/78 [00:00<00:00, 416.00it/s]\n",
      " 53%|██████████████████████████████████████████▌                                      | 41/78 [00:00<00:00, 407.03it/s]"
     ]
    },
    {
     "name": "stdout",
     "output_type": "stream",
     "text": [
      "Epoch 93\n"
     ]
    },
    {
     "name": "stderr",
     "output_type": "stream",
     "text": [
      "100%|█████████████████████████████████████████████████████████████████████████████████| 78/78 [00:00<00:00, 413.80it/s]\n",
      " 53%|██████████████████████████████████████████▌                                      | 41/78 [00:00<00:00, 407.02it/s]"
     ]
    },
    {
     "name": "stdout",
     "output_type": "stream",
     "text": [
      "Epoch 94\n"
     ]
    },
    {
     "name": "stderr",
     "output_type": "stream",
     "text": [
      "100%|█████████████████████████████████████████████████████████████████████████████████| 78/78 [00:00<00:00, 413.80it/s]\n",
      " 55%|████████████████████████████████████████████▋                                    | 43/78 [00:00<00:00, 422.69it/s]"
     ]
    },
    {
     "name": "stdout",
     "output_type": "stream",
     "text": [
      "Epoch 95\n"
     ]
    },
    {
     "name": "stderr",
     "output_type": "stream",
     "text": [
      "100%|█████████████████████████████████████████████████████████████████████████████████| 78/78 [00:00<00:00, 422.03it/s]\n",
      " 53%|██████████████████████████████████████████▌                                      | 41/78 [00:00<00:00, 403.03it/s]"
     ]
    },
    {
     "name": "stdout",
     "output_type": "stream",
     "text": [
      "Epoch 96\n"
     ]
    },
    {
     "name": "stderr",
     "output_type": "stream",
     "text": [
      "100%|█████████████████████████████████████████████████████████████████████████████████| 78/78 [00:00<00:00, 405.24it/s]\n",
      " 55%|████████████████████████████████████████████▋                                    | 43/78 [00:00<00:00, 418.59it/s]"
     ]
    },
    {
     "name": "stdout",
     "output_type": "stream",
     "text": [
      "Epoch 97\n"
     ]
    },
    {
     "name": "stderr",
     "output_type": "stream",
     "text": [
      "100%|█████████████████████████████████████████████████████████████████████████████████| 78/78 [00:00<00:00, 418.23it/s]\n",
      " 54%|███████████████████████████████████████████▌                                     | 42/78 [00:00<00:00, 412.86it/s]"
     ]
    },
    {
     "name": "stdout",
     "output_type": "stream",
     "text": [
      "Epoch 98\n"
     ]
    },
    {
     "name": "stderr",
     "output_type": "stream",
     "text": [
      "100%|█████████████████████████████████████████████████████████████████████████████████| 78/78 [00:00<00:00, 409.46it/s]\n",
      " 51%|█████████████████████████████████████████▌                                       | 40/78 [00:00<00:00, 393.09it/s]"
     ]
    },
    {
     "name": "stdout",
     "output_type": "stream",
     "text": [
      "Epoch 99\n"
     ]
    },
    {
     "name": "stderr",
     "output_type": "stream",
     "text": [
      "100%|█████████████████████████████████████████████████████████████████████████████████| 78/78 [00:00<00:00, 401.07it/s]\n"
     ]
    },
    {
     "name": "stdout",
     "output_type": "stream",
     "text": [
      "\n",
      "Done training\n",
      "\n"
     ]
    }
   ],
   "source": [
    "model.train()"
   ]
  }
 ],
 "metadata": {
  "kernelspec": {
   "display_name": "torch",
   "language": "python",
   "name": "torch"
  },
  "language_info": {
   "codemirror_mode": {
    "name": "ipython",
    "version": 3
   },
   "file_extension": ".py",
   "mimetype": "text/x-python",
   "name": "python",
   "nbconvert_exporter": "python",
   "pygments_lexer": "ipython3",
   "version": "3.7.6"
  }
 },
 "nbformat": 4,
 "nbformat_minor": 2
}
