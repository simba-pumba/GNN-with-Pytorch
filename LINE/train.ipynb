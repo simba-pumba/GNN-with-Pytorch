{
 "cells": [
  {
   "cell_type": "code",
   "execution_count": null,
   "metadata": {},
   "outputs": [],
   "source": [
    "import torch\n",
    "from torch import nn, optim\n",
    "from tqdm import tqdm\n",
    "import torch.nn.functional as F\n",
    "from torch.utils.data.sampler import WeightedRandomSampler\n",
    "import networkx as nx\n",
    "import numpy as np\n",
    "\n",
    "import model\n",
    "import visualization"
   ]
  },
  {
   "cell_type": "code",
   "execution_count": null,
   "metadata": {},
   "outputs": [],
   "source": [
    "class TrainLINE:\n",
    "    def __init__(self, G, emd_dim, epochs,learning_rate = 0.01, neg_k = 2, second_order = False):\n",
    "        '''\n",
    "        G: networkx 객체\n",
    "        emd_dim: embedding dimension\n",
    "        neg_k: # negative samples\n",
    "        batch: edges\n",
    "        '''\n",
    "        self.line = LINE(G = G,emd_dim = emd_dim, neg_k = 2, second_order = second_order)\n",
    "        self.learning_rate = learning_rate\n",
    "    \n",
    "        self.batch = list(G.edges)\n",
    "        self.nodes = len(G.nodes)\n",
    "        self.epochs = epochs\n",
    "    \n",
    "    def train(self):\n",
    "        opt = optim.SGD(self.line.parameters(), lr=self.learning_rate)\n",
    "        device = torch.device(\"cuda\" if torch.cuda.is_available() else \"cpu\")\n",
    "        self.line.cuda()\n",
    "        \n",
    "        for epoch in range(self.epochs):\n",
    "            self.line.train()\n",
    "            \n",
    "            # batch로 쓰일 edges를 epoch마다 random하게 섞어줌\n",
    "            np.random.shuffle(self.batch) \n",
    "            \n",
    "            print(\"Epoch {}\".format(epoch))\n",
    "            \n",
    "            for b in tqdm(self.batch):\n",
    "                self.line.zero_grad()\n",
    "                loss = self.line(i=torch.tensor(b[0],device=device), j=torch.tensor(b[1],device=device), device=device)\n",
    "                loss.backward()\n",
    "                opt.step()\n",
    "                \n",
    "            # epoch마다 embedding vectors의 plot을 뽑음.    \n",
    "            self.line.eval()\n",
    "            Visualization().TSNE(self.line.emd_layer(torch.tensor(range(self.nodes),device=device)).cpu().detach().numpy(),epoch)\n",
    "            \n",
    "\n",
    "        print(\"\\nDone\\n\")        \n",
    "        "
   ]
  },
  {
   "cell_type": "code",
   "execution_count": null,
   "metadata": {},
   "outputs": [],
   "source": [
    "if __name__ == \"__main__\":\n",
    "    model = TrainLINE(nx.karate_club_graph(), epochs = 100, learning_rate = 0.0001, emd_dim = 5, neg_k=2, second_order = True)\n",
    "    model.train()"
   ]
  }
 ],
 "metadata": {
  "kernelspec": {
   "display_name": "torch",
   "language": "python",
   "name": "torch"
  },
  "language_info": {
   "codemirror_mode": {
    "name": "ipython",
    "version": 3
   },
   "file_extension": ".py",
   "mimetype": "text/x-python",
   "name": "python",
   "nbconvert_exporter": "python",
   "pygments_lexer": "ipython3",
   "version": "3.7.6"
  }
 },
 "nbformat": 4,
 "nbformat_minor": 2
}
